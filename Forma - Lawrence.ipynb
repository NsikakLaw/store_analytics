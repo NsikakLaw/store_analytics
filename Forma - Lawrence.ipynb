{
 "cells": [
  {
   "cell_type": "markdown",
   "metadata": {},
   "source": [
    "## Store Database analysis and Insights"
   ]
  },
  {
   "cell_type": "markdown",
   "metadata": {},
   "source": [
    "I have opted for Python as it has a powerful data libraries such as pandas, numpy, matplotlib etc. for better analytics and visualization. \n",
    "\n",
    "\n",
    "Before starting analysis there are steps that need to be done in order to confirm the accuracy and correctness of the informations in the tables. \n",
    "\n",
    "From my analysis of the dataset, the main check will be to confirm unrecorded product ids are found in the transactions. \n",
    "\n",
    "----------------------------------------------------\n",
    "\n",
    "select prod_id from transactions where transactions.prod_id not in(select prod_id from products);\n",
    "\n",
    "select prod_id from products where products.prod_id not in(select prod_id from  transactions);\n",
    "\n",
    "---------------------------------------------------\n",
    "\n",
    "\n",
    "This code assumes that you have converted the three tables to csv files and you have them in the same directory as this notebook file; These steps were done in order to convert these tables to csv;\n",
    "\n",
    "---------------------------------------------------\n",
    "\n",
    "sqlite> .header on\n",
    "\n",
    "sqlite> .mode csv\n",
    "\n",
    "sqlite> .output table-name.csv\n",
    "    \n",
    "sqlite> SELECT * table-name;\n",
    "\n",
    "---------------------------------------------------\n"
   ]
  },
  {
   "cell_type": "markdown",
   "metadata": {},
   "source": [
    "### Importing libraries"
   ]
  },
  {
   "cell_type": "code",
   "execution_count": 6,
   "metadata": {},
   "outputs": [],
   "source": [
    "import numpy as np\n",
    "\n",
    "import matplotlib.pyplot as plt\n",
    "\n",
    "import pandas as pd"
   ]
  },
  {
   "cell_type": "markdown",
   "metadata": {},
   "source": [
    "### Importing the dataset"
   ]
  },
  {
   "cell_type": "code",
   "execution_count": 11,
   "metadata": {},
   "outputs": [],
   "source": [
    "products_dataset = pd.read_csv('products.csv')\n",
    "\n",
    "transactions_dataset = pd.read_csv('transactions.csv')\n",
    "\n",
    "segments_dataset = pd.read_csv('segments.csv')"
   ]
  },
  {
   "cell_type": "markdown",
   "metadata": {},
   "source": [
    "### Finding missing values"
   ]
  },
  {
   "cell_type": "code",
   "execution_count": 12,
   "metadata": {},
   "outputs": [
    {
     "data": {
      "text/plain": [
       "cust_id        0\n",
       "seg_name       0\n",
       "update_at      0\n",
       "active_flag    0\n",
       "dtype: int64"
      ]
     },
     "execution_count": 12,
     "metadata": {},
     "output_type": "execute_result"
    }
   ],
   "source": [
    "products_dataset.isnull ().sum()\n",
    "\n",
    "transactions_dataset.isnull ().sum()\n",
    "\n",
    "segments_dataset.isnull ().sum()\n"
   ]
  },
  {
   "cell_type": "markdown",
   "metadata": {},
   "source": [
    "### Checking the data types of each dataset"
   ]
  },
  {
   "cell_type": "code",
   "execution_count": 13,
   "metadata": {},
   "outputs": [
    {
     "data": {
      "text/plain": [
       "prod_id       int64\n",
       "prod_name    object\n",
       "brand        object\n",
       "category     object\n",
       "dtype: object"
      ]
     },
     "execution_count": 13,
     "metadata": {},
     "output_type": "execute_result"
    }
   ],
   "source": [
    "products_dataset.dtypes"
   ]
  },
  {
   "cell_type": "code",
   "execution_count": 14,
   "metadata": {},
   "outputs": [
    {
     "data": {
      "text/plain": [
       "trans_id        int64\n",
       "trans_dt       object\n",
       "cust_id         int64\n",
       "prod_id         int64\n",
       "item_qty        int64\n",
       "item_price    float64\n",
       "dtype: object"
      ]
     },
     "execution_count": 14,
     "metadata": {},
     "output_type": "execute_result"
    }
   ],
   "source": [
    "transactions_dataset.dtypes"
   ]
  },
  {
   "cell_type": "code",
   "execution_count": 15,
   "metadata": {},
   "outputs": [
    {
     "data": {
      "text/plain": [
       "cust_id         int64\n",
       "seg_name       object\n",
       "update_at      object\n",
       "active_flag    object\n",
       "dtype: object"
      ]
     },
     "execution_count": 15,
     "metadata": {},
     "output_type": "execute_result"
    }
   ],
   "source": [
    "segments_dataset.dtypes"
   ]
  },
  {
   "cell_type": "markdown",
   "metadata": {},
   "source": [
    "## Finding Insights\n",
    "\n",
    "\n",
    "#### Most Popular Products\n",
    "Firstly we will find the most popular category of products in this store, this would indicate which products the store invests in"
   ]
  },
  {
   "cell_type": "code",
   "execution_count": 16,
   "metadata": {},
   "outputs": [
    {
     "data": {
      "text/plain": [
       "Women          821\n",
       "Make up        692\n",
       "Men            230\n",
       "Accessoires     89\n",
       "Sun             31\n",
       "dtype: int64"
      ]
     },
     "execution_count": 16,
     "metadata": {},
     "output_type": "execute_result"
    }
   ],
   "source": [
    "pd.value_counts(products_dataset['category'].values, sort=True)"
   ]
  },
  {
   "cell_type": "markdown",
   "metadata": {},
   "source": [
    "From this analysis, we can see that the most products are for Women and Make up. We can confirm that this store predominantly sell women items."
   ]
  },
  {
   "cell_type": "markdown",
   "metadata": {},
   "source": [
    "#### Sales trend and seasonality\n",
    "We will now find out what month in the year has the highest sales, this would be based of the transactions' dataset. Although based on the time frame of the transactions' dataset (Jan - July 2016), it does seem like a small sample size to provide predictive analysis for forecasting. However, it is worth checking to see which months the store performed best in sales."
   ]
  },
  {
   "cell_type": "code",
   "execution_count": 56,
   "metadata": {},
   "outputs": [
    {
     "data": {
      "text/plain": [
       "0      2016-01-02 10:06:00\n",
       "1      2016-01-02 10:30:00\n",
       "2      2016-01-02 10:30:00\n",
       "3      2016-01-02 11:33:00\n",
       "4      2016-01-02 11:33:00\n",
       "               ...        \n",
       "2661   2016-06-18 10:00:00\n",
       "2662   2016-06-18 10:00:00\n",
       "2663   2016-06-18 10:00:00\n",
       "2664   2016-06-18 17:51:00\n",
       "2665   2016-06-18 12:34:00\n",
       "Name: trans_dt, Length: 2666, dtype: datetime64[ns]"
      ]
     },
     "execution_count": 56,
     "metadata": {},
     "output_type": "execute_result"
    }
   ],
   "source": [
    "pd.to_datetime(transactions_dataset['trans_dt'])"
   ]
  },
  {
   "cell_type": "code",
   "execution_count": 57,
   "metadata": {},
   "outputs": [],
   "source": [
    "transactions_dataset['trans_dt'] = pd.to_datetime(transactions_dataset['trans_dt'])"
   ]
  },
  {
   "cell_type": "code",
   "execution_count": 58,
   "metadata": {},
   "outputs": [
    {
     "data": {
      "text/plain": [
       "trans_id               int64\n",
       "trans_dt      datetime64[ns]\n",
       "cust_id                int64\n",
       "prod_id                int64\n",
       "item_qty               int64\n",
       "item_price           float64\n",
       "dtype: object"
      ]
     },
     "execution_count": 58,
     "metadata": {},
     "output_type": "execute_result"
    }
   ],
   "source": [
    "transactions_dataset.dtypes"
   ]
  },
  {
   "cell_type": "code",
   "execution_count": 59,
   "metadata": {},
   "outputs": [],
   "source": [
    "transactions_dataset['trans_dt_year_month'] = transactions_dataset['trans_dt'].dt.strftime('%Y-%m')"
   ]
  },
  {
   "cell_type": "code",
   "execution_count": 62,
   "metadata": {},
   "outputs": [],
   "source": [
    "trans_data = transactions_dataset.groupby('trans_dt_year_month').size().reset_index().rename(columns={0: 'count_transactions'})"
   ]
  },
  {
   "cell_type": "code",
   "execution_count": 65,
   "metadata": {},
   "outputs": [
    {
     "data": {
      "text/html": [
       "<div>\n",
       "<style scoped>\n",
       "    .dataframe tbody tr th:only-of-type {\n",
       "        vertical-align: middle;\n",
       "    }\n",
       "\n",
       "    .dataframe tbody tr th {\n",
       "        vertical-align: top;\n",
       "    }\n",
       "\n",
       "    .dataframe thead th {\n",
       "        text-align: right;\n",
       "    }\n",
       "</style>\n",
       "<table border=\"1\" class=\"dataframe\">\n",
       "  <thead>\n",
       "    <tr style=\"text-align: right;\">\n",
       "      <th></th>\n",
       "      <th>trans_dt_year_month</th>\n",
       "      <th>count_transactions</th>\n",
       "    </tr>\n",
       "  </thead>\n",
       "  <tbody>\n",
       "    <tr>\n",
       "      <th>0</th>\n",
       "      <td>2016-01</td>\n",
       "      <td>1810</td>\n",
       "    </tr>\n",
       "    <tr>\n",
       "      <th>1</th>\n",
       "      <td>2016-02</td>\n",
       "      <td>161</td>\n",
       "    </tr>\n",
       "    <tr>\n",
       "      <th>2</th>\n",
       "      <td>2016-03</td>\n",
       "      <td>203</td>\n",
       "    </tr>\n",
       "    <tr>\n",
       "      <th>3</th>\n",
       "      <td>2016-04</td>\n",
       "      <td>206</td>\n",
       "    </tr>\n",
       "    <tr>\n",
       "      <th>4</th>\n",
       "      <td>2016-05</td>\n",
       "      <td>192</td>\n",
       "    </tr>\n",
       "    <tr>\n",
       "      <th>5</th>\n",
       "      <td>2016-06</td>\n",
       "      <td>94</td>\n",
       "    </tr>\n",
       "  </tbody>\n",
       "</table>\n",
       "</div>"
      ],
      "text/plain": [
       "  trans_dt_year_month  count_transactions\n",
       "0             2016-01                1810\n",
       "1             2016-02                 161\n",
       "2             2016-03                 203\n",
       "3             2016-04                 206\n",
       "4             2016-05                 192\n",
       "5             2016-06                  94"
      ]
     },
     "execution_count": 65,
     "metadata": {},
     "output_type": "execute_result"
    }
   ],
   "source": [
    "trans_data"
   ]
  },
  {
   "cell_type": "markdown",
   "metadata": {},
   "source": [
    "In a graphical representation, we can view this as;"
   ]
  },
  {
   "cell_type": "code",
   "execution_count": 129,
   "metadata": {},
   "outputs": [
    {
     "data": {
      "image/png": "[encoded data removed]",
      "text/plain": [
       "<Figure size 720x504 with 1 Axes>"
      ]
     },
     "metadata": {
      "needs_background": "light"
     },
     "output_type": "display_data"
    }
   ],
   "source": [
    "plt.figure(figsize=(10,7))\n",
    "plt.plot(trans_data['trans_dt_year_month'], trans_data['count_transactions'], color='brown')\n",
    "plt.xlabel(\"Month\")\n",
    "plt.ylabel(\"Number of Transactions\")\n",
    "plt.show()"
   ]
  },
  {
   "cell_type": "markdown",
   "metadata": {},
   "source": [
    "Based on the data available, January 2016 seem to be by far the most productive month in terms of sales and the overall sales showed a downward trend of sales. The store would have to further investigate why sales are not compared or close to January sales, either marketing & advertising measures are not as effective or the goods sold in the store January are seasonal (winter, autumn etc) hence why the spike during those times. "
   ]
  },
  {
   "cell_type": "markdown",
   "metadata": {},
   "source": [
    "#### Time allocation for employees\n",
    "\n",
    "Based on the transactions' dataset, we can confirm what time most purchases are made and the time of day with the worst sales. "
   ]
  },
  {
   "cell_type": "code",
   "execution_count": 60,
   "metadata": {},
   "outputs": [],
   "source": [
    "transactions_dataset['trans_dt_time']= transactions_dataset['trans_dt'].dt.strftime('%HH')"
   ]
  },
  {
   "cell_type": "code",
   "execution_count": 63,
   "metadata": {},
   "outputs": [],
   "source": [
    "trans_data_time = transactions_dataset.groupby('trans_dt_time').size().reset_index().rename(columns={0: 'count_timeoftransactions'})"
   ]
  },
  {
   "cell_type": "code",
   "execution_count": 64,
   "metadata": {},
   "outputs": [
    {
     "data": {
      "text/html": [
       "<div>\n",
       "<style scoped>\n",
       "    .dataframe tbody tr th:only-of-type {\n",
       "        vertical-align: middle;\n",
       "    }\n",
       "\n",
       "    .dataframe tbody tr th {\n",
       "        vertical-align: top;\n",
       "    }\n",
       "\n",
       "    .dataframe thead th {\n",
       "        text-align: right;\n",
       "    }\n",
       "</style>\n",
       "<table border=\"1\" class=\"dataframe\">\n",
       "  <thead>\n",
       "    <tr style=\"text-align: right;\">\n",
       "      <th></th>\n",
       "      <th>trans_dt_time</th>\n",
       "      <th>count_timeoftransactions</th>\n",
       "    </tr>\n",
       "  </thead>\n",
       "  <tbody>\n",
       "    <tr>\n",
       "      <th>0</th>\n",
       "      <td>00H</td>\n",
       "      <td>49</td>\n",
       "    </tr>\n",
       "    <tr>\n",
       "      <th>1</th>\n",
       "      <td>08H</td>\n",
       "      <td>1</td>\n",
       "    </tr>\n",
       "    <tr>\n",
       "      <th>2</th>\n",
       "      <td>09H</td>\n",
       "      <td>122</td>\n",
       "    </tr>\n",
       "    <tr>\n",
       "      <th>3</th>\n",
       "      <td>10H</td>\n",
       "      <td>292</td>\n",
       "    </tr>\n",
       "    <tr>\n",
       "      <th>4</th>\n",
       "      <td>11H</td>\n",
       "      <td>351</td>\n",
       "    </tr>\n",
       "    <tr>\n",
       "      <th>5</th>\n",
       "      <td>12H</td>\n",
       "      <td>408</td>\n",
       "    </tr>\n",
       "    <tr>\n",
       "      <th>6</th>\n",
       "      <td>13H</td>\n",
       "      <td>317</td>\n",
       "    </tr>\n",
       "    <tr>\n",
       "      <th>7</th>\n",
       "      <td>14H</td>\n",
       "      <td>260</td>\n",
       "    </tr>\n",
       "    <tr>\n",
       "      <th>8</th>\n",
       "      <td>15H</td>\n",
       "      <td>333</td>\n",
       "    </tr>\n",
       "    <tr>\n",
       "      <th>9</th>\n",
       "      <td>16H</td>\n",
       "      <td>270</td>\n",
       "    </tr>\n",
       "    <tr>\n",
       "      <th>10</th>\n",
       "      <td>17H</td>\n",
       "      <td>192</td>\n",
       "    </tr>\n",
       "    <tr>\n",
       "      <th>11</th>\n",
       "      <td>18H</td>\n",
       "      <td>59</td>\n",
       "    </tr>\n",
       "    <tr>\n",
       "      <th>12</th>\n",
       "      <td>19H</td>\n",
       "      <td>8</td>\n",
       "    </tr>\n",
       "    <tr>\n",
       "      <th>13</th>\n",
       "      <td>20H</td>\n",
       "      <td>4</td>\n",
       "    </tr>\n",
       "  </tbody>\n",
       "</table>\n",
       "</div>"
      ],
      "text/plain": [
       "   trans_dt_time  count_timeoftransactions\n",
       "0            00H                        49\n",
       "1            08H                         1\n",
       "2            09H                       122\n",
       "3            10H                       292\n",
       "4            11H                       351\n",
       "5            12H                       408\n",
       "6            13H                       317\n",
       "7            14H                       260\n",
       "8            15H                       333\n",
       "9            16H                       270\n",
       "10           17H                       192\n",
       "11           18H                        59\n",
       "12           19H                         8\n",
       "13           20H                         4"
      ]
     },
     "execution_count": 64,
     "metadata": {},
     "output_type": "execute_result"
    }
   ],
   "source": [
    "trans_data_time"
   ]
  },
  {
   "cell_type": "markdown",
   "metadata": {},
   "source": [
    "In a graphical representation;"
   ]
  },
  {
   "cell_type": "code",
   "execution_count": 132,
   "metadata": {},
   "outputs": [
    {
     "data": {
      "image/png": "[encoded data removed]",
      "text/plain": [
       "<Figure size 864x504 with 1 Axes>"
      ]
     },
     "metadata": {
      "needs_background": "light"
     },
     "output_type": "display_data"
    }
   ],
   "source": [
    "plt.figure(figsize=(12,7))\n",
    "plt.plot(trans_data_time['trans_dt_time'], trans_data_time['count_timeoftransactions'], color='brown')\n",
    "plt.xlabel(\"Time of the day\")\n",
    "plt.ylabel(\"Number of Transactions\")\n",
    "plt.show()"
   ]
  },
  {
   "cell_type": "markdown",
   "metadata": {},
   "source": [
    "Based on the results of the analysis, you cannot definitely confirm the hours of operations because of the transactions at 12AM. However this would help in the scheduling of employees' shift, in order to maximize sales and improve customer satisfaction would be have sufficient employees during peak periods and avoid long queues. Also seems transactions after 9PM are non-existent based on this, it is advisable to make that the closing time to avoid losses."
   ]
  },
  {
   "cell_type": "code",
   "execution_count": 71,
   "metadata": {
    "scrolled": true
   },
   "outputs": [],
   "source": [
    "#pd.value_counts(transactions_dataset['prod_id'].values, sort=True)"
   ]
  },
  {
   "cell_type": "code",
   "execution_count": 22,
   "metadata": {},
   "outputs": [
    {
     "data": {
      "text/html": [
       "<div>\n",
       "<style scoped>\n",
       "    .dataframe tbody tr th:only-of-type {\n",
       "        vertical-align: middle;\n",
       "    }\n",
       "\n",
       "    .dataframe tbody tr th {\n",
       "        vertical-align: top;\n",
       "    }\n",
       "\n",
       "    .dataframe thead th {\n",
       "        text-align: right;\n",
       "    }\n",
       "</style>\n",
       "<table border=\"1\" class=\"dataframe\">\n",
       "  <thead>\n",
       "    <tr style=\"text-align: right;\">\n",
       "      <th></th>\n",
       "      <th>trans_id</th>\n",
       "      <th>trans_dt</th>\n",
       "      <th>cust_id</th>\n",
       "      <th>prod_id</th>\n",
       "      <th>item_qty</th>\n",
       "      <th>item_price</th>\n",
       "    </tr>\n",
       "  </thead>\n",
       "  <tbody>\n",
       "    <tr>\n",
       "      <th>56</th>\n",
       "      <td>57</td>\n",
       "      <td>2016-01-02 10:49:00</td>\n",
       "      <td>14800452</td>\n",
       "      <td>261231</td>\n",
       "      <td>1</td>\n",
       "      <td>24.99</td>\n",
       "    </tr>\n",
       "    <tr>\n",
       "      <th>579</th>\n",
       "      <td>580</td>\n",
       "      <td>2016-01-02 15:53:00</td>\n",
       "      <td>5456481</td>\n",
       "      <td>261231</td>\n",
       "      <td>1</td>\n",
       "      <td>24.99</td>\n",
       "    </tr>\n",
       "    <tr>\n",
       "      <th>642</th>\n",
       "      <td>642</td>\n",
       "      <td>2016-01-02 10:55:00</td>\n",
       "      <td>13131604</td>\n",
       "      <td>261231</td>\n",
       "      <td>1</td>\n",
       "      <td>24.99</td>\n",
       "    </tr>\n",
       "    <tr>\n",
       "      <th>746</th>\n",
       "      <td>747</td>\n",
       "      <td>2016-01-02 16:45:00</td>\n",
       "      <td>14847707</td>\n",
       "      <td>261231</td>\n",
       "      <td>1</td>\n",
       "      <td>24.99</td>\n",
       "    </tr>\n",
       "    <tr>\n",
       "      <th>1343</th>\n",
       "      <td>1344</td>\n",
       "      <td>2016-01-02 09:09:00</td>\n",
       "      <td>4109896</td>\n",
       "      <td>261231</td>\n",
       "      <td>1</td>\n",
       "      <td>24.99</td>\n",
       "    </tr>\n",
       "    <tr>\n",
       "      <th>1818</th>\n",
       "      <td>1819</td>\n",
       "      <td>2016-02-02 12:26:00</td>\n",
       "      <td>3568127</td>\n",
       "      <td>261231</td>\n",
       "      <td>1</td>\n",
       "      <td>24.99</td>\n",
       "    </tr>\n",
       "    <tr>\n",
       "      <th>2215</th>\n",
       "      <td>2216</td>\n",
       "      <td>2016-04-06 16:30:00</td>\n",
       "      <td>21232064</td>\n",
       "      <td>261231</td>\n",
       "      <td>2</td>\n",
       "      <td>24.99</td>\n",
       "    </tr>\n",
       "    <tr>\n",
       "      <th>2398</th>\n",
       "      <td>2399</td>\n",
       "      <td>2016-05-04 12:21:00</td>\n",
       "      <td>11043256</td>\n",
       "      <td>261231</td>\n",
       "      <td>1</td>\n",
       "      <td>24.99</td>\n",
       "    </tr>\n",
       "    <tr>\n",
       "      <th>2624</th>\n",
       "      <td>2625</td>\n",
       "      <td>2016-06-11 13:28:00</td>\n",
       "      <td>5456481</td>\n",
       "      <td>261231</td>\n",
       "      <td>1</td>\n",
       "      <td>24.99</td>\n",
       "    </tr>\n",
       "    <tr>\n",
       "      <th>2659</th>\n",
       "      <td>2659</td>\n",
       "      <td>2016-06-17 00:00:00</td>\n",
       "      <td>4548602</td>\n",
       "      <td>261231</td>\n",
       "      <td>2</td>\n",
       "      <td>24.99</td>\n",
       "    </tr>\n",
       "  </tbody>\n",
       "</table>\n",
       "</div>"
      ],
      "text/plain": [
       "      trans_id             trans_dt   cust_id  prod_id  item_qty  item_price\n",
       "56          57  2016-01-02 10:49:00  14800452   261231         1       24.99\n",
       "579        580  2016-01-02 15:53:00   5456481   261231         1       24.99\n",
       "642        642  2016-01-02 10:55:00  13131604   261231         1       24.99\n",
       "746        747  2016-01-02 16:45:00  14847707   261231         1       24.99\n",
       "1343      1344  2016-01-02 09:09:00   4109896   261231         1       24.99\n",
       "1818      1819  2016-02-02 12:26:00   3568127   261231         1       24.99\n",
       "2215      2216  2016-04-06 16:30:00  21232064   261231         2       24.99\n",
       "2398      2399  2016-05-04 12:21:00  11043256   261231         1       24.99\n",
       "2624      2625  2016-06-11 13:28:00   5456481   261231         1       24.99\n",
       "2659      2659  2016-06-17 00:00:00   4548602   261231         2       24.99"
      ]
     },
     "execution_count": 22,
     "metadata": {},
     "output_type": "execute_result"
    }
   ],
   "source": [
    "#transactions_dataset[transactions_dataset['prod_id']== 261231]"
   ]
  },
  {
   "cell_type": "markdown",
   "metadata": {},
   "source": [
    "#### Customer and Products Insights\n",
    "\n",
    "This section just analyzes the different product categories and provide some insights as to which products and segments of customer provide the most revenue."
   ]
  },
  {
   "cell_type": "code",
   "execution_count": 147,
   "metadata": {
    "scrolled": true
   },
   "outputs": [
    {
     "data": {
      "text/plain": [
       "Women          1231\n",
       "Make up         938\n",
       "Men             319\n",
       "Accessoires     138\n",
       "Sun              40\n",
       "dtype: int64"
      ]
     },
     "execution_count": 147,
     "metadata": {},
     "output_type": "execute_result"
    }
   ],
   "source": [
    "result= pd.merge(transactions_dataset, products_dataset, on='prod_id')\n",
    "\n",
    "pd.value_counts(result['category'].values, sort=True)"
   ]
  },
  {
   "cell_type": "code",
   "execution_count": 141,
   "metadata": {},
   "outputs": [
    {
     "data": {
      "image/png": "[encoded data removed]",
      "text/plain": [
       "<Figure size 432x288 with 1 Axes>"
      ]
     },
     "metadata": {
      "needs_background": "light"
     },
     "output_type": "display_data"
    }
   ],
   "source": [
    "pd.value_counts(result['category'].values, sort=True).plot.bar(color='brown')\n",
    "\n",
    "plt.show()"
   ]
  },
  {
   "cell_type": "code",
   "execution_count": 143,
   "metadata": {},
   "outputs": [
    {
     "data": {
      "text/html": [
       "<div>\n",
       "<style scoped>\n",
       "    .dataframe tbody tr th:only-of-type {\n",
       "        vertical-align: middle;\n",
       "    }\n",
       "\n",
       "    .dataframe tbody tr th {\n",
       "        vertical-align: top;\n",
       "    }\n",
       "\n",
       "    .dataframe thead th {\n",
       "        text-align: right;\n",
       "    }\n",
       "</style>\n",
       "<table border=\"1\" class=\"dataframe\">\n",
       "  <thead>\n",
       "    <tr style=\"text-align: right;\">\n",
       "      <th></th>\n",
       "      <th>item_price</th>\n",
       "      <th>category</th>\n",
       "    </tr>\n",
       "  </thead>\n",
       "  <tbody>\n",
       "    <tr>\n",
       "      <th>0</th>\n",
       "      <td>42.99</td>\n",
       "      <td>Make up</td>\n",
       "    </tr>\n",
       "    <tr>\n",
       "      <th>1</th>\n",
       "      <td>103.95</td>\n",
       "      <td>Women</td>\n",
       "    </tr>\n",
       "    <tr>\n",
       "      <th>2</th>\n",
       "      <td>74.99</td>\n",
       "      <td>Women</td>\n",
       "    </tr>\n",
       "    <tr>\n",
       "      <th>3</th>\n",
       "      <td>51.99</td>\n",
       "      <td>Women</td>\n",
       "    </tr>\n",
       "    <tr>\n",
       "      <th>4</th>\n",
       "      <td>51.99</td>\n",
       "      <td>Women</td>\n",
       "    </tr>\n",
       "    <tr>\n",
       "      <th>...</th>\n",
       "      <td>...</td>\n",
       "      <td>...</td>\n",
       "    </tr>\n",
       "    <tr>\n",
       "      <th>2661</th>\n",
       "      <td>73.99</td>\n",
       "      <td>Women</td>\n",
       "    </tr>\n",
       "    <tr>\n",
       "      <th>2662</th>\n",
       "      <td>49.99</td>\n",
       "      <td>Men</td>\n",
       "    </tr>\n",
       "    <tr>\n",
       "      <th>2663</th>\n",
       "      <td>30.99</td>\n",
       "      <td>Women</td>\n",
       "    </tr>\n",
       "    <tr>\n",
       "      <th>2664</th>\n",
       "      <td>89.99</td>\n",
       "      <td>Men</td>\n",
       "    </tr>\n",
       "    <tr>\n",
       "      <th>2665</th>\n",
       "      <td>46.99</td>\n",
       "      <td>Women</td>\n",
       "    </tr>\n",
       "  </tbody>\n",
       "</table>\n",
       "<p>2666 rows × 2 columns</p>\n",
       "</div>"
      ],
      "text/plain": [
       "      item_price category\n",
       "0          42.99  Make up\n",
       "1         103.95    Women\n",
       "2          74.99    Women\n",
       "3          51.99    Women\n",
       "4          51.99    Women\n",
       "...          ...      ...\n",
       "2661       73.99    Women\n",
       "2662       49.99      Men\n",
       "2663       30.99    Women\n",
       "2664       89.99      Men\n",
       "2665       46.99    Women\n",
       "\n",
       "[2666 rows x 2 columns]"
      ]
     },
     "execution_count": 143,
     "metadata": {},
     "output_type": "execute_result"
    }
   ],
   "source": [
    "result['amount_spent']= result['item_qty']*result['item_price']\n",
    "\n",
    "result[['item_price','category']]"
   ]
  },
  {
   "cell_type": "code",
   "execution_count": 146,
   "metadata": {},
   "outputs": [
    {
     "data": {
      "text/html": [
       "<div>\n",
       "<style scoped>\n",
       "    .dataframe tbody tr th:only-of-type {\n",
       "        vertical-align: middle;\n",
       "    }\n",
       "\n",
       "    .dataframe tbody tr th {\n",
       "        vertical-align: top;\n",
       "    }\n",
       "\n",
       "    .dataframe thead th {\n",
       "        text-align: right;\n",
       "    }\n",
       "</style>\n",
       "<table border=\"1\" class=\"dataframe\">\n",
       "  <thead>\n",
       "    <tr style=\"text-align: right;\">\n",
       "      <th></th>\n",
       "      <th>amount_spent</th>\n",
       "    </tr>\n",
       "    <tr>\n",
       "      <th>category</th>\n",
       "      <th></th>\n",
       "    </tr>\n",
       "  </thead>\n",
       "  <tbody>\n",
       "    <tr>\n",
       "      <th>Accessoires</th>\n",
       "      <td>1756.86</td>\n",
       "    </tr>\n",
       "    <tr>\n",
       "      <th>Make up</th>\n",
       "      <td>26734.24</td>\n",
       "    </tr>\n",
       "    <tr>\n",
       "      <th>Men</th>\n",
       "      <td>16158.72</td>\n",
       "    </tr>\n",
       "    <tr>\n",
       "      <th>Sun</th>\n",
       "      <td>1268.74</td>\n",
       "    </tr>\n",
       "    <tr>\n",
       "      <th>Women</th>\n",
       "      <td>57269.78</td>\n",
       "    </tr>\n",
       "  </tbody>\n",
       "</table>\n",
       "</div>"
      ],
      "text/plain": [
       "             amount_spent\n",
       "category                 \n",
       "Accessoires       1756.86\n",
       "Make up          26734.24\n",
       "Men              16158.72\n",
       "Sun               1268.74\n",
       "Women            57269.78"
      ]
     },
     "execution_count": 146,
     "metadata": {},
     "output_type": "execute_result"
    }
   ],
   "source": [
    "result[['category', 'amount_spent']].groupby('category').sum()"
   ]
  },
  {
   "cell_type": "code",
   "execution_count": 113,
   "metadata": {},
   "outputs": [
    {
     "data": {
      "text/plain": [
       "category\n",
       "Accessoires    12.363406\n",
       "Make up        28.035096\n",
       "Men            49.504389\n",
       "Sun            29.889250\n",
       "Women          45.440244\n",
       "Name: item_price, dtype: float64"
      ]
     },
     "execution_count": 113,
     "metadata": {},
     "output_type": "execute_result"
    }
   ],
   "source": [
    "result_item_amount = result[['category', 'item_price']].groupby('category').sum()\n",
    "\n",
    "result_item_count =  result[['category', 'item_price']].groupby('category').count()\n",
    "\n",
    "result_item_amount['item_price']/result_item_count['item_price']"
   ]
  },
  {
   "cell_type": "code",
   "execution_count": 133,
   "metadata": {
    "scrolled": true
   },
   "outputs": [
    {
     "data": {
      "image/png": "[encoded data removed]",
      "text/plain": [
       "<Figure size 432x288 with 1 Axes>"
      ]
     },
     "metadata": {
      "needs_background": "light"
     },
     "output_type": "display_data"
    }
   ],
   "source": [
    "result.groupby('category').sum()\n",
    "\n",
    "result_amount = result[['category', 'amount_spent']].groupby('category').sum()\n",
    "\n",
    "result_count =  result[['category', 'amount_spent']].groupby('category').count()\n",
    "\n",
    "#fig = plt.figure()\n",
    "\n",
    "#ax = fig.add_axes([0,0,1,1])\n",
    "\n",
    "fd= result_amount['amount_spent']/result_count['amount_spent']\n",
    "\n",
    "fd.plot.bar(color='brown')\n",
    "\n",
    "plt.show()\n",
    "\n",
    "\n",
    "\n",
    "#result_amount['amount_spent']/result_count['amount_spent']\n"
   ]
  },
  {
   "cell_type": "markdown",
   "metadata": {},
   "source": [
    "Highest revenue generating category is the Women, next to Make up. In a custom metric, revenue generated per transaction for each category it shows that the Men category provide more revenue per transaction (mean). However that's because its average price of an item in the Male category is slightly higher than the Women category but however based on the information provided I would say it is profitable to still have a men's category within the store based on this however an inventory record showing the number of each product and its sale price would clarify that."
   ]
  },
  {
   "cell_type": "code",
   "execution_count": 117,
   "metadata": {
    "scrolled": true
   },
   "outputs": [
    {
     "data": {
      "text/html": [
       "<div>\n",
       "<style scoped>\n",
       "    .dataframe tbody tr th:only-of-type {\n",
       "        vertical-align: middle;\n",
       "    }\n",
       "\n",
       "    .dataframe tbody tr th {\n",
       "        vertical-align: top;\n",
       "    }\n",
       "\n",
       "    .dataframe thead th {\n",
       "        text-align: right;\n",
       "    }\n",
       "</style>\n",
       "<table border=\"1\" class=\"dataframe\">\n",
       "  <thead>\n",
       "    <tr style=\"text-align: right;\">\n",
       "      <th></th>\n",
       "      <th>seg_name</th>\n",
       "      <th>TotalRevenue</th>\n",
       "    </tr>\n",
       "  </thead>\n",
       "  <tbody>\n",
       "    <tr>\n",
       "      <th>0</th>\n",
       "      <td>INFREQUENT</td>\n",
       "      <td>40607.13</td>\n",
       "    </tr>\n",
       "    <tr>\n",
       "      <th>1</th>\n",
       "      <td>LOYAL</td>\n",
       "      <td>32533.16</td>\n",
       "    </tr>\n",
       "    <tr>\n",
       "      <th>2</th>\n",
       "      <td>NEW</td>\n",
       "      <td>5939.92</td>\n",
       "    </tr>\n",
       "    <tr>\n",
       "      <th>3</th>\n",
       "      <td>ONE-OFFS</td>\n",
       "      <td>19708.89</td>\n",
       "    </tr>\n",
       "    <tr>\n",
       "      <th>4</th>\n",
       "      <td>VIP</td>\n",
       "      <td>49857.13</td>\n",
       "    </tr>\n",
       "  </tbody>\n",
       "</table>\n",
       "</div>"
      ],
      "text/plain": [
       "     seg_name  TotalRevenue\n",
       "0  INFREQUENT      40607.13\n",
       "1       LOYAL      32533.16\n",
       "2         NEW       5939.92\n",
       "3    ONE-OFFS      19708.89\n",
       "4         VIP      49857.13"
      ]
     },
     "execution_count": 117,
     "metadata": {},
     "output_type": "execute_result"
    }
   ],
   "source": [
    "trans_prod_seg = segments_dataset[segments_dataset['active_flag'] == 'Y'].merge(transactions_dataset, on='cust_id').merge(products_dataset, on='prod_id')\n",
    "\n",
    "trans_prod_seg['TotalRevenue']=trans_prod_seg['item_qty']*trans_prod_seg['item_price']\n",
    "\n",
    "temp_trans = trans_prod_seg.groupby(['seg_name','category'])['TotalRevenue'].sum().reset_index()\n",
    "\n",
    "temp_trans_data = trans_prod_seg.groupby(['seg_name'])['TotalRevenue'].sum().reset_index()\n",
    "\n",
    "temp_trans_data\n",
    "\n",
    "#temp_trans\n"
   ]
  },
  {
   "cell_type": "markdown",
   "metadata": {},
   "source": [
    "According to the data, the active segment that provides the most revenue is the VIP followed by INFREQUENT and the lowest are the NEW customers. This can help provide insights regarding the group to improve marketing strategy on and how to go about it, such as loyalty bonuses, VIP discounts etc."
   ]
  },
  {
   "cell_type": "code",
   "execution_count": 135,
   "metadata": {},
   "outputs": [
    {
     "data": {
      "image/png": "[encoded data removed]",
      "text/plain": [
       "<Figure size 864x504 with 1 Axes>"
      ]
     },
     "metadata": {
      "needs_background": "light"
     },
     "output_type": "display_data"
    }
   ],
   "source": [
    "plt.figure(figsize=(12,7))\n",
    "plt.plot(temp_trans_data['seg_name'], temp_trans_data['TotalRevenue'], color='brown')\n",
    "plt.xlabel(\"Active Segment\")\n",
    "plt.ylabel(\"Total Revenue\")\n",
    "plt.show()"
   ]
  }
 ],
 "metadata": {
  "kernelspec": {
   "display_name": "Python 3",
   "language": "python",
   "name": "python3"
  },
  "language_info": {
   "codemirror_mode": {
    "name": "ipython",
    "version": 3
   },
   "file_extension": ".py",
   "mimetype": "text/x-python",
   "name": "python",
   "nbconvert_exporter": "python",
   "pygments_lexer": "ipython3",
   "version": "3.7.6"
  }
 },
 "nbformat": 4,
 "nbformat_minor": 4
}
